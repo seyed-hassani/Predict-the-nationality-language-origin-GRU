{
 "cells": [
  {
   "cell_type": "code",
   "execution_count": 1,
   "id": "2f60e822",
   "metadata": {},
   "outputs": [],
   "source": [
    "epochs = 120 # You can change it\n",
    "batch_size = 1024 # You can change it\n",
    "history = model.fit(X_train, y_train, epochs = epochs, batch_size = batch_size, validation_data=(X_valid,y_valid)) # TODO"
   ]
  },
  {
   "cell_type": "code",
   "execution_count": 2,
   "id": "05363963",
   "metadata": {},
   "outputs": [],
   "source": [
    "# !pip install keras --upgrade\n",
    "# Uncomment the above line if you don't have keras 3 installed"
   ]
  },
  {
   "cell_type": "code",
   "execution_count": 3,
   "id": "10e46b56",
   "metadata": {},
   "outputs": [],
   "source": [
    "import numpy as np\n",
    "import pandas as pd\n",
    "\n",
    "import os\n",
    "os.environ[\"KERAS_BACKEND\"] = \"tensorflow\"\n",
    "\n",
    "import keras\n",
    "print(keras.__version__)"
   ]
  },
  {
   "cell_type": "code",
   "execution_count": 4,
   "id": "984b316e",
   "metadata": {},
   "outputs": [],
   "source": [
    "dirname = './data/train/'\n",
    "filenames = os.listdir(dirname)\n",
    "for filename in filenames:\n",
    "    print(filename)\n",
    "    file = open(f'{dirname}/{filename}', 'r')\n",
    "    lines = file.read() # TODO\n",
    "    print(lines)\n",
    "# print(filenames)# TODO"
   ]
  },
  {
   "cell_type": "code",
   "execution_count": 5,
   "id": "2a401747",
   "metadata": {},
   "outputs": [],
   "source": [
    "df = pd.DataFrame(columns=['Origin', 'Name'])\n",
    "dirname = './data/train/'\n",
    "filenames = os.listdir(dirname)\n",
    "for filename in filenames:\n",
    "    filepath = os.path.join(dirname, filename)\n",
    "    with open(filepath, 'r') as file:\n",
    "        lines = file.readlines() \n",
    "        for line in lines:\n",
    "            df.loc[len(df)] = [os.path.splitext(filename)[0], line.strip()]  "
   ]
  },
  {
   "cell_type": "code",
   "execution_count": 6,
   "id": "0c6ec53a",
   "metadata": {},
   "outputs": [],
   "source": [
    "test = pd.read_csv('./data/test.csv') # TODO"
   ]
  },
  {
   "cell_type": "code",
   "execution_count": 7,
   "id": "99c3a59c",
   "metadata": {},
   "outputs": [],
   "source": [
    "chars = set()\n",
    "for name in df[\"Name\"]:\n",
    "    chars.update(name.lower())  \n",
    "\n",
    "chars = sorted(list(chars))\n",
    "# print(chars)\n",
    "char_to_index = {char: idx for idx, char in enumerate(chars)}\n",
    "def word_to_matrix(word, char_to_index, num_chars):\n",
    "    word = word.lower()\n",
    "    mat = np.zeros((len(word), num_chars), dtype=int)\n",
    "    for i, char in enumerate(word):\n",
    "        if char in char_to_index:\n",
    "            mat[i, char_to_index[char]] = 1\n",
    "    return mat\n",
    "sample_word = df.loc[0, \"Name\"]\n",
    "matrix = word_to_matrix(sample_word, char_to_index, len(chars))\n",
    "print(matrix)"
   ]
  },
  {
   "cell_type": "code",
   "execution_count": 8,
   "id": "921dcc58",
   "metadata": {},
   "outputs": [],
   "source": [
    "longest_string = max(len(name) for name in df[\"Name\"])\n",
    "print(longest_string)"
   ]
  },
  {
   "cell_type": "code",
   "execution_count": 9,
   "id": "6f4b483a",
   "metadata": {},
   "outputs": [],
   "source": [
    "def encode(my_word, chars, max_len):\n",
    "    char_to_index = {char: idx for idx, char in enumerate(chars)}\n",
    "    num_chars = len(chars)\n",
    "    \n",
    "    encoded_matrix = np.zeros((max_len, num_chars), dtype=int)\n",
    "\n",
    "    my_word = my_word.lower()\n",
    "    for i, char in enumerate(my_word):\n",
    "        if i < max_len and char in char_to_index:\n",
    "            encoded_matrix[i, char_to_index[char]] = 1\n",
    "\n",
    "    return encoded_matrix"
   ]
  },
  {
   "cell_type": "code",
   "execution_count": 10,
   "id": "d3ff5bfc",
   "metadata": {},
   "outputs": [],
   "source": [
    "X = [encode(word, chars, longest_string) for word in df[\"Name\"]]"
   ]
  },
  {
   "cell_type": "code",
   "execution_count": 11,
   "id": "af88e3ed",
   "metadata": {},
   "outputs": [],
   "source": [
    "test_x = np.array([encode(word, chars, longest_string) for word in test[\"Name\"]])\n",
    "print(test_x)"
   ]
  },
  {
   "cell_type": "code",
   "execution_count": 12,
   "id": "c31cf858",
   "metadata": {},
   "outputs": [],
   "source": [
    "classes = ['Arabic', 'Chinese', 'Czech', 'Dutch', 'English', 'French', 'German', 'Greek', 'Irish', 'Italian', 'Japanese', 'Korean', 'Polish', 'Portuguese', 'Russian', 'Scottish', 'Spanish', 'Vietnamese']\n",
    "label_to_index = {label: idx for idx, label in enumerate(classes)}\n",
    "y= df['Origin'].map(label_to_index).values\n",
    "y = keras.utils.to_categorical(y, num_classes=len(classes))"
   ]
  },
  {
   "cell_type": "code",
   "execution_count": 13,
   "id": "0cfac65d",
   "metadata": {},
   "outputs": [],
   "source": [
    "from sklearn.model_selection import train_test_split\n",
    "X = np.array(X)\n",
    "\n",
    "X_train, X_valid, y_train, y_valid = train_test_split(X, y, test_size = 0.1) # TODO"
   ]
  },
  {
   "cell_type": "code",
   "execution_count": 14,
   "id": "7276b891",
   "metadata": {},
   "outputs": [],
   "source": [
    "import keras\n",
    "from keras.models import Sequential\n",
    "from keras.layers import Dense, SimpleRNN, Dropout, Input, LSTM, BatchNormalization, GRU\n",
    "from keras.optimizers import Adam\n",
    "from keras.losses import categorical_crossentropy"
   ]
  },
  {
   "cell_type": "code",
   "execution_count": 15,
   "id": "f3eba9b1",
   "metadata": {},
   "outputs": [],
   "source": [
    "# تعداد کلاس‌ها\n",
    "num_classes = 18\n",
    "\n",
    "# ابعاد ورودی\n",
    "input_shape = (longest_string, len(chars))\n",
    "\n",
    "# مدل\n",
    "model = keras.models.Sequential()\n",
    "model.add(keras.layers.Input(shape=(longest_string, len(chars))))  # max_len × num_chars\n",
    "model.add(keras.layers.GRU(256))                            # خروجی: بردار ویژگی\n",
    "model.add(keras.layers.Dense(18, activation='softmax'))     # خروجی: بردار احتمال\n",
    "\n",
    "model.compile(\n",
    "    loss='categorical_crossentropy',\n",
    "    optimizer='adam',\n",
    "    metrics=['AUC']  # چون معیار ارزیابی AUC است\n",
    ")"
   ]
  },
  {
   "cell_type": "code",
   "execution_count": 16,
   "id": "be71444e",
   "metadata": {},
   "outputs": [],
   "source": [
    "epochs = 120 # You can change it\n",
    "batch_size = 1024 # You can change it\n",
    "history = model.fit(X_train, y_train, epochs = epochs, batch_size = batch_size, validation_data=(X_valid,y_valid)) # TODO"
   ]
  },
  {
   "cell_type": "code",
   "execution_count": 17,
   "id": "4073803d",
   "metadata": {},
   "outputs": [],
   "source": [
    "from matplotlib import pyplot as plt\n",
    "\n",
    "plt.plot(history.history['loss'], 'r')\n",
    "plt.plot(history.history['val_loss'], 'b')\n",
    "plt.ylabel('AUC')\n",
    "plt.xlabel('Epoch')\n",
    "plt.legend(['Train', 'Validation'], loc='upper left')\n",
    "plt.show()"
   ]
  },
  {
   "cell_type": "code",
   "execution_count": 18,
   "id": "8b2ea86f",
   "metadata": {},
   "outputs": [],
   "source": [
    "y_pred = model.predict(test_x) # TODO"
   ]
  },
  {
   "cell_type": "code",
   "execution_count": 19,
   "id": "6e5330fc",
   "metadata": {},
   "outputs": [],
   "source": [
    "submission = pd.DataFrame(columns=['prediction']) # TODO"
   ]
  },
  {
   "cell_type": "code",
   "execution_count": 20,
   "id": "6ebb2978",
   "metadata": {},
   "outputs": [],
   "source": [
    "submission = pd.DataFrame(columns=['prediction']=prediction) \n",
    "submission# TODO"
   ]
  },
  {
   "cell_type": "code",
   "execution_count": 21,
   "id": "34678a7c",
   "metadata": {},
   "outputs": [],
   "source": [
    "submission = pd.DataFrame(columns=['prediction'],y_pred) \n",
    "submission# TODO"
   ]
  },
  {
   "cell_type": "code",
   "execution_count": 22,
   "id": "8f0c0aab",
   "metadata": {},
   "outputs": [],
   "source": [
    "submission = pd.DataFrame(data=y_pred,columns=['prediction']) \n",
    "submission# TODO"
   ]
  },
  {
   "cell_type": "code",
   "execution_count": 23,
   "id": "e06b91ca",
   "metadata": {},
   "outputs": [],
   "source": [
    "submission = pd.DataFrame(data=y_pred, columns=['prediction'])\n",
    "submission# TODO"
   ]
  },
  {
   "cell_type": "code",
   "execution_count": 24,
   "id": "a6e8124e",
   "metadata": {},
   "outputs": [],
   "source": [
    "submission = pd.DataFrame(data=y_pred, columns=['prediction'])\n",
    "submission# TODO"
   ]
  },
  {
   "cell_type": "code",
   "execution_count": 25,
   "id": "3ad66784",
   "metadata": {},
   "outputs": [],
   "source": [
    "y_pred_labels = np.argmax(y_pred, axis=1)\n",
    "submission = pd.DataFrame(data=y_pred, columns=['prediction'])\n",
    "submission# TODO"
   ]
  },
  {
   "cell_type": "code",
   "execution_count": 26,
   "id": "d89d2ab8",
   "metadata": {},
   "outputs": [],
   "source": [
    "y_pred_labels = np.argmax(y_pred, axis=1)\n",
    "submission = pd.DataFrame(data=y_pred_labels, columns=['prediction'])\n",
    "submission# TODO"
   ]
  },
  {
   "cell_type": "code",
   "execution_count": 27,
   "id": "622feb06",
   "metadata": {},
   "outputs": [],
   "source": [
    "y_pred_labels = np.argmax(y_pred, axis=1)\n",
    "submission = pd.DataFrame({'prediction': y_pred_labels})\n",
    "submission# TODO"
   ]
  }
 ],
 "metadata": {},
 "nbformat": 4,
 "nbformat_minor": 5
}
